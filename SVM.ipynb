{
  "nbformat": 4,
  "nbformat_minor": 0,
  "metadata": {
    "colab": {
      "name": "SVM.ipynb",
      "provenance": [],
      "collapsed_sections": [],
      "include_colab_link": true
    },
    "kernelspec": {
      "name": "python3",
      "display_name": "Python 3"
    },
    "accelerator": "GPU"
  },
  "cells": [
    {
      "cell_type": "markdown",
      "metadata": {
        "id": "view-in-github",
        "colab_type": "text"
      },
      "source": [
        "<a href=\"https://colab.research.google.com/github/mehtasahil31/CSC522-Final-Project/blob/master/SVM.ipynb\" target=\"_parent\"><img src=\"https://colab.research.google.com/assets/colab-badge.svg\" alt=\"Open In Colab\"/></a>"
      ]
    },
    {
      "cell_type": "code",
      "metadata": {
        "id": "AH9FYjgp9EDP",
        "colab_type": "code",
        "colab": {}
      },
      "source": [
        "# Display the data\n",
        "from matplotlib import pyplot\n",
        "from PIL import Image\n",
        "from keras.datasets import cifar10\n",
        "def show_imgs(X):\n",
        "    pyplot.figure(1)\n",
        "    k = 0\n",
        "    for i in range(0,3):\n",
        "        for j in range(0,3):\n",
        "            pyplot.subplot2grid((3,3),(i,j))\n",
        "            pyplot.imshow(Image.fromarray(X[k], 'RGB'))\n",
        "            k = k+1\n",
        "    # show the plot\n",
        "    pyplot.show()\n",
        " \n",
        "(x_train, y_train), (x_test, y_test) = cifar10.load_data()\n",
        "show_imgs(x_test[:9])"
      ],
      "execution_count": 0,
      "outputs": []
    },
    {
      "cell_type": "code",
      "metadata": {
        "id": "_roMfP0M-jFG",
        "colab_type": "code",
        "colab": {}
      },
      "source": [
        "\n",
        "# Imports\n",
        "import numpy as np\n",
        "from keras.utils import np_utils \n",
        "from keras.datasets import cifar10\n",
        "from matplotlib import pyplot\n",
        "from PIL import Image\n",
        "from sklearn.model_selection import train_test_split\n",
        "\n",
        "# load data\n",
        "(X_train, y_train), (X_test, y_test) = cifar10.load_data()\n",
        "X_train, X_valid, y_train, y_valid = train_test_split(X_train, y_train, test_size=0.6, stratify=None)\n",
        "\n",
        "seed = 7\n",
        "np.random.seed(seed)\n",
        "\n",
        "# normalizing th data\n",
        "X_train = X_train.astype('float32')\n",
        "X_test = X_test.astype('float32')\n",
        "X_valid = X_valid.astype('float32')\n",
        "\n",
        "X_train = X_train / 255.0\n",
        "X_test = X_test / 255.0\n",
        "X_valid = X_valid / 255.0\n"
      ],
      "execution_count": 0,
      "outputs": []
    },
    {
      "cell_type": "code",
      "metadata": {
        "id": "be6FJrgesW97",
        "colab_type": "code",
        "colab": {}
      },
      "source": [
        "# reshaping the data for input\n",
        "X_train = X_train.reshape(X_train.shape[0],-1)\n",
        "X_test = X_test.reshape(X_test.shape[0],-1)\n",
        "X_valid = X_valid.reshape(X_valid.shape[0],-1)"
      ],
      "execution_count": 0,
      "outputs": []
    },
    {
      "cell_type": "code",
      "metadata": {
        "id": "VaHiPxHutUM-",
        "colab_type": "code",
        "colab": {}
      },
      "source": [
        "X_train.shape"
      ],
      "execution_count": 0,
      "outputs": []
    },
    {
      "cell_type": "code",
      "metadata": {
        "id": "pOgFhO5j5H3w",
        "colab_type": "code",
        "colab": {}
      },
      "source": [
        "# optional: PCA- an attempt to reduce run time of the code\n",
        "from sklearn.decomposition import PCA\n",
        "\n",
        "pca = PCA()\n",
        "pca.fit_transform(X_train)\n",
        "\n",
        "k = 0\n",
        "total = sum(pca.explained_variance_)\n",
        "current_sum = 0\n",
        "\n",
        "while(current_sum / total < 0.95):\n",
        "    current_sum += pca.explained_variance_[k]\n",
        "    k += 1\n",
        "k\n",
        "\n",
        "pca = PCA(n_components=k, whiten=True)\n",
        "\n",
        "X_train_pca = pca.fit_transform(X_train)\n",
        "X_test_pca = pca.transform(X_test)"
      ],
      "execution_count": 0,
      "outputs": []
    },
    {
      "cell_type": "code",
      "metadata": {
        "id": "wa7aW-n66aUT",
        "colab_type": "code",
        "colab": {}
      },
      "source": [
        "X_train_pca.shape"
      ],
      "execution_count": 0,
      "outputs": []
    },
    {
      "cell_type": "code",
      "metadata": {
        "id": "CmW6xccKrx5_",
        "colab_type": "code",
        "colab": {}
      },
      "source": [
        "## SUPPORT VECTOR MACHINE\n",
        "\n",
        "from sklearn import svm\n",
        "from sklearn.metrics import classification_report, confusion_matrix, accuracy_score\n",
        "degree = [\"precomputed\"]\n",
        "scores = []\n",
        "for d in degree:\n",
        "  print(\"Degree = \",d)\n",
        "  clf = svm.SVC(kernel= d)\n",
        "  clf.fit(X_train_pca, y_train) \n",
        "  y_pred_svm = clf.predict(X_test_pca)\n",
        "  svc_score = accuracy_score(y_test, y_pred_svm)\n",
        "  scores.append(svc_score)\n",
        "scores"
      ],
      "execution_count": 0,
      "outputs": []
    },
    {
      "cell_type": "code",
      "metadata": {
        "id": "3DH8r_sYui5P",
        "colab_type": "code",
        "colab": {}
      },
      "source": [
        "# code for the plots\n",
        "import matplotlib.pyplot as plt\n",
        "acc =  [0.3978, 0.4901, 0.1832]\n",
        "plt.plot([\"linear\", \"rbf\", \"poly\"], acc)\n",
        "#plt.title('Epochs')\n",
        "plt.xlabel('Kernel')\n",
        "plt.ylabel('Accuracy')\n",
        "plt.grid()\n",
        "plt.show()"
      ],
      "execution_count": 0,
      "outputs": []
    }
  ]
}